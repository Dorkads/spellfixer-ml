{
 "cells": [
  {
   "cell_type": "code",
   "execution_count": null,
   "id": "809c62a5",
   "metadata": {},
   "outputs": [],
   "source": [
    "# Усов Руслан Николаевич\n",
    "# Тема преддипломной практики: «Разработка алгоритмов машинного обучения для обнаружения ошибок в текстах (на примере Частного образовательного учреждения высшего образования «Московский университет имени С.Ю. Витте»)»"
   ]
  },
  {
   "cell_type": "markdown",
   "id": "75bce287",
   "metadata": {},
   "source": [
    "# Smoke тестирование"
   ]
  },
  {
   "cell_type": "markdown",
   "id": "bebeb93a",
   "metadata": {},
   "source": [
    "## На предмет удачной загрузки модели"
   ]
  },
  {
   "cell_type": "markdown",
   "id": "50a95262",
   "metadata": {},
   "source": [
    "### Импорты"
   ]
  },
  {
   "cell_type": "code",
   "execution_count": 1,
   "id": "741fc2c4",
   "metadata": {},
   "outputs": [
    {
     "name": "stdout",
     "output_type": "stream",
     "text": [
      "tensorflow 2.19.0\n"
     ]
    }
   ],
   "source": [
    "import pytest\n",
    "import logging\n",
    "import os\n",
    "import tensorflow as tf\n",
    "from tensorflow import keras\n",
    "\n",
    "print('tensorflow', tf.__version__)"
   ]
  },
  {
   "cell_type": "markdown",
   "id": "26bdd3f8",
   "metadata": {},
   "source": [
    "### Проверка загрузки модели"
   ]
  },
  {
   "cell_type": "code",
   "execution_count": 8,
   "id": "1a219ffc",
   "metadata": {},
   "outputs": [
    {
     "name": "stderr",
     "output_type": "stream",
     "text": [
      "2025-06-16 17:19:10,272 [INFO] ✅ Файл модели найден: ../model/model.keras\n",
      "2025-06-16 17:19:10,448 [INFO] ✅ Модель успешно загружена.\n"
     ]
    }
   ],
   "source": [
    "# Настраиваем логгер\n",
    "logging.basicConfig(\n",
    "    level=logging.INFO,\n",
    "    format=\"%(asctime)s [%(levelname)s] %(message)s\",\n",
    "    handlers=[logging.StreamHandler()]\n",
    ")\n",
    "\n",
    "MODEL_PATH = \"../model/model.keras\"\n",
    "\n",
    "# Проверка на наличие файла\n",
    "if not os.path.exists(MODEL_PATH):\n",
    "    logging.error(f\"❌ Файл модели не найден по пути: {MODEL_PATH}\")\n",
    "else:\n",
    "    logging.info(f\"✅ Файл модели найден: {MODEL_PATH}\")\n",
    "\n",
    "    try:\n",
    "        model = keras.models.load_model(MODEL_PATH)\n",
    "        logging.info(\"✅ Модель успешно загружена.\")\n",
    "        # Можно добавить тестовое предсказание, если хочешь убедиться в работоспособности\n",
    "    except Exception as e:\n",
    "        logging.exception(f\"❌ Ошибка при загрузке модели: {e}\")\n"
   ]
  },
  {
   "cell_type": "markdown",
   "id": "cea0a6c1",
   "metadata": {},
   "source": [
    "## На предмет загрузки датасета"
   ]
  },
  {
   "cell_type": "markdown",
   "id": "cf4bda7e",
   "metadata": {},
   "source": [
    "### Импорты"
   ]
  },
  {
   "cell_type": "code",
   "execution_count": 10,
   "id": "5ee631e1",
   "metadata": {},
   "outputs": [
    {
     "name": "stdout",
     "output_type": "stream",
     "text": [
      "pandas 2.3.0\n"
     ]
    }
   ],
   "source": [
    "import sys\n",
    "import pandas as pd\n",
    "\n",
    "print('pandas', pd.__version__)"
   ]
  },
  {
   "cell_type": "markdown",
   "id": "f88083c1",
   "metadata": {},
   "source": [
    "### Функция проверки на запуск датасета"
   ]
  },
  {
   "cell_type": "code",
   "execution_count": 11,
   "id": "f84f3905",
   "metadata": {},
   "outputs": [
    {
     "name": "stdout",
     "output_type": "stream",
     "text": [
      "✅ Данные успешно загружены!\n",
      "     correct       noisy\n",
      "0  Apennines    Apenines\n",
      "1  Apennines   Appenines\n",
      "2   Athenian    Athenean\n",
      "3  Athenians   Atheneans\n",
      "4  Bernoulli  Bernouilli\n"
     ]
    }
   ],
   "source": [
    "# Глушим всю трассу ошибок\n",
    "sys.tracebacklimit = 0\n",
    "\n",
    "def smoke_test_csv(path=\"../data/processed/dataset.csv\", n=5):\n",
    "    \"\"\"\n",
    "    Пытаемся загрузить CSV и вывести его head.\n",
    "    Возвращает DataFrame или None.\n",
    "    \"\"\"\n",
    "    try:\n",
    "        df = pd.read_csv(path)\n",
    "        print(\"✅ Данные успешно загружены!\")\n",
    "        print(df.head(n))\n",
    "        return df\n",
    "    except Exception as e:\n",
    "        print(f\"❌ Не удалось загрузить данные: {e}\")\n",
    "        return None\n",
    "\n",
    "# Запуск теста\n",
    "if __name__ == \"__main__\":\n",
    "    smoke_test_csv()"
   ]
  }
 ],
 "metadata": {
  "kernelspec": {
   "display_name": "tf",
   "language": "python",
   "name": "python3"
  },
  "language_info": {
   "codemirror_mode": {
    "name": "ipython",
    "version": 3
   },
   "file_extension": ".py",
   "mimetype": "text/x-python",
   "name": "python",
   "nbconvert_exporter": "python",
   "pygments_lexer": "ipython3",
   "version": "3.10.18"
  }
 },
 "nbformat": 4,
 "nbformat_minor": 5
}
