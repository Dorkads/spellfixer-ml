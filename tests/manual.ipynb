{
 "cells": [
  {
   "cell_type": "markdown",
   "id": "e89bf0b8",
   "metadata": {},
   "source": [
    "# Ручное тестирование модели"
   ]
  },
  {
   "cell_type": "markdown",
   "id": "52f2f216",
   "metadata": {},
   "source": [
    "## Импорты"
   ]
  },
  {
   "cell_type": "code",
   "execution_count": 1,
   "id": "f1ba492b",
   "metadata": {},
   "outputs": [
    {
     "name": "stdout",
     "output_type": "stream",
     "text": [
      "Библиотеки ипортированы:\n",
      "tensorflow 2.19.0\n",
      "pandas 2.3.0\n",
      "numpy 2.1.3\n"
     ]
    }
   ],
   "source": [
    "import numpy as np\n",
    "import pandas as pd\n",
    "import json\n",
    "import os\n",
    "import tensorflow as tf\n",
    "from tensorflow.keras.models import load_model\n",
    "from tensorflow.keras.preprocessing.sequence import pad_sequences\n",
    "from tensorflow.keras.preprocessing.text import tokenizer_from_json\n",
    "\n",
    "print(f'Библиотеки ипортированы:')\n",
    "print('tensorflow', tf.__version__)\n",
    "print('pandas', pd.__version__)\n",
    "print('numpy', np.__version__)"
   ]
  },
  {
   "cell_type": "markdown",
   "id": "755e49b0",
   "metadata": {},
   "source": [
    "## Конфигурация модели"
   ]
  },
  {
   "cell_type": "code",
   "execution_count": 2,
   "id": "a899320e",
   "metadata": {},
   "outputs": [],
   "source": [
    "# Пути к файлам\n",
    "MODEL_PATH = \"../model/model.keras\"\n",
    "TOKENIZER_PATH = \"../model/tokenizer/tokenizer.json\"\n",
    "CSV_PATH = \"../data/processed/dataset.csv\"\n",
    "MAX_LEN = 25"
   ]
  },
  {
   "cell_type": "markdown",
   "id": "b4f94dde",
   "metadata": {},
   "source": [
    "## Проверка конфигурации на наличие файлов"
   ]
  },
  {
   "cell_type": "code",
   "execution_count": 3,
   "id": "bed00a81",
   "metadata": {},
   "outputs": [
    {
     "name": "stdout",
     "output_type": "stream",
     "text": [
      "Модель импортирована из пути: ../model/model.keras\n",
      "Токенизатор импортирован из пути: ../model/tokenizer/tokenizer.json\n",
      "Датасет импортирован из пути: ../data/processed/dataset.csv\n",
      "Конфигурация гиперпараметра MAX_LEN установлена: 25\n"
     ]
    }
   ],
   "source": [
    "# Проверка наличия каждого файла\n",
    "missing_files = []\n",
    "\n",
    "if not os.path.isfile(MODEL_PATH):\n",
    "    missing_files.append(MODEL_PATH)\n",
    "if not os.path.isfile(TOKENIZER_PATH):\n",
    "    missing_files.append(TOKENIZER_PATH)\n",
    "if not os.path.isfile(CSV_PATH):\n",
    "    missing_files.append(CSV_PATH)\n",
    "\n",
    "# Вывод результата\n",
    "if missing_files:\n",
    "    print(\"Ошибка! Не найдены следующие файлы:\")\n",
    "    for file in missing_files:\n",
    "        print(f\"   - {file}\")\n",
    "else:\n",
    "    print(f\"Модель импортирована из пути: {MODEL_PATH}\")\n",
    "    print(f\"Токенизатор импортирован из пути: {TOKENIZER_PATH}\")\n",
    "    print(f\"Датасет импортирован из пути: {CSV_PATH}\")\n",
    "    print(f\"Конфигурация гиперпараметра MAX_LEN установлена: {MAX_LEN}\")"
   ]
  },
  {
   "cell_type": "code",
   "execution_count": 10,
   "id": "02f96924",
   "metadata": {},
   "outputs": [
    {
     "name": "stdout",
     "output_type": "stream",
     "text": [
      "Файл модели найден: ../model/model.keras\n",
      "Модель успешно загружена.\n"
     ]
    }
   ],
   "source": [
    "# Загрузка модели\n",
    "# Проверка существования файла перед загрузкой\n",
    "if os.path.isfile(MODEL_PATH):\n",
    "    print(f\"Файл модели найден: {MODEL_PATH}\")\n",
    "    model = load_model(MODEL_PATH)\n",
    "    print(\"Модель успешно загружена.\")\n",
    "else:\n",
    "    raise FileNotFoundError(f\"айл модели не найден по пути: {MODEL_PATH}\")"
   ]
  },
  {
   "cell_type": "code",
   "execution_count": 11,
   "id": "0a764986",
   "metadata": {},
   "outputs": [
    {
     "name": "stdout",
     "output_type": "stream",
     "text": [
      "Файл токенизатора найден: ../model/tokenizer/tokenizer.json\n",
      "Токенизатор успешно загружен.\n"
     ]
    }
   ],
   "source": [
    "# Загрузка токенизатора\n",
    "# Проверка существования файла перед загрузкой токенизатора\n",
    "if os.path.isfile(TOKENIZER_PATH):\n",
    "    print(f\"Файл токенизатора найден: {TOKENIZER_PATH}\")\n",
    "    with open(TOKENIZER_PATH, \"r\", encoding=\"utf-8\") as f:\n",
    "        tokenizer = tokenizer_from_json(f.read())\n",
    "    print(\"Токенизатор успешно загружен.\")\n",
    "else:\n",
    "    raise FileNotFoundError(f\"Файл токенизатора не найден по пути: {TOKENIZER_PATH}\")"
   ]
  },
  {
   "cell_type": "code",
   "execution_count": 12,
   "id": "e5534e6c",
   "metadata": {},
   "outputs": [
    {
     "name": "stdout",
     "output_type": "stream",
     "text": [
      "CSV-файл найден: ../data/processed/dataset.csv\n",
      "Словарь исправлений успешно загружен.\n"
     ]
    }
   ],
   "source": [
    "# Загрузка словаря исправлений\n",
    "# Проверка существования CSV-файла перед загрузкой\n",
    "if os.path.isfile(CSV_PATH):\n",
    "    print(f\"CSV-файл найден: {CSV_PATH}\")\n",
    "    df_check = pd.read_csv(CSV_PATH)\n",
    "    \n",
    "    # Проверка наличия нужных столбцов\n",
    "    if \"noisy\" in df_check.columns and \"correct\" in df_check.columns:\n",
    "        corrections = dict(zip(df_check[\"noisy\"], df_check[\"correct\"]))\n",
    "        print(\"Словарь исправлений успешно загружен.\")\n",
    "    else:\n",
    "        raise ValueError(\"В файле отсутствуют необходимые столбцы: 'noisy' и 'correct'\")\n",
    "else:\n",
    "    raise FileNotFoundError(f\"CSV-файл не найден по пути: {CSV_PATH}\")"
   ]
  },
  {
   "cell_type": "markdown",
   "id": "82115ed2",
   "metadata": {},
   "source": [
    "## Создание блока кода ручного тестирование"
   ]
  },
  {
   "cell_type": "code",
   "execution_count": 18,
   "id": "68a8781a",
   "metadata": {},
   "outputs": [
    {
     "name": "stdout",
     "output_type": "stream",
     "text": [
      "=== Проверка текста ===\n",
      "\u001b[1m1/1\u001b[0m \u001b[32m━━━━━━━━━━━━━━━━━━━━\u001b[0m\u001b[37m\u001b[0m \u001b[1m0s\u001b[0m 39ms/step\n",
      "📊 Вероятность ошибки: 0.631\n",
      "⚠️ Обнаружена ошибка!\n",
      "Вы ввели: spainish\n",
      "✅ Исправление: Spanish\n"
     ]
    }
   ],
   "source": [
    "# Ручной ввод\n",
    "print(\"=== Проверка текста ===\")\n",
    "\n",
    "test_input = \"spainish\" \n",
    "\n",
    "# Преобразуем текст\n",
    "seq = tokenizer.texts_to_sequences([test_input])\n",
    "padded = pad_sequences(seq, maxlen=MAX_LEN, padding=\"post\")\n",
    "\n",
    "# Получаем предсказание\n",
    "pred = model.predict(padded)[0][0]\n",
    "print(f\"📊 Вероятность ошибки: {pred:.3f}\")\n",
    "\n",
    "# Вывод результата\n",
    "if pred >= 0.5:\n",
    "    print(\"⚠️ Обнаружена ошибка!\")\n",
    "    if test_input in corrections:\n",
    "        print(f\"Вы ввели: {test_input}\")\n",
    "        print(f\"✅ Исправление: {corrections[test_input]}\")\n",
    "    else:\n",
    "        print(\"❌ Исправление не найдено в словаре.\")\n",
    "else:\n",
    "    print(\"✅ Ошибок не обнаружено.\")\n"
   ]
  }
 ],
 "metadata": {
  "kernelspec": {
   "display_name": "test_env",
   "language": "python",
   "name": "python3"
  },
  "language_info": {
   "codemirror_mode": {
    "name": "ipython",
    "version": 3
   },
   "file_extension": ".py",
   "mimetype": "text/x-python",
   "name": "python",
   "nbconvert_exporter": "python",
   "pygments_lexer": "ipython3",
   "version": "3.10.18"
  }
 },
 "nbformat": 4,
 "nbformat_minor": 5
}
