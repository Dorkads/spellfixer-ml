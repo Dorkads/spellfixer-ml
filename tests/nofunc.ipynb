{
 "cells": [
  {
   "cell_type": "code",
   "execution_count": null,
   "id": "d5d9bb0d",
   "metadata": {},
   "outputs": [],
   "source": [
    "# Усов Руслан Николаевич\n",
    "# Тема преддипломной практики: «Разработка алгоритмов машинного обучения для обнаружения ошибок в текстах (на примере Частного образовательного учреждения высшего образования «Московский университет имени С.Ю. Витте»)»"
   ]
  },
  {
   "cell_type": "markdown",
   "id": "99a8390f",
   "metadata": {},
   "source": [
    "# Создание нефункционального тестирования - тест скорости инференса"
   ]
  },
  {
   "cell_type": "markdown",
   "id": "8ae17ceb",
   "metadata": {},
   "source": [
    "## Импорты"
   ]
  },
  {
   "cell_type": "code",
   "execution_count": 11,
   "id": "8ba5a0b0",
   "metadata": {},
   "outputs": [
    {
     "name": "stdout",
     "output_type": "stream",
     "text": [
      "Библиотеки ипортированы:\n",
      "tensorflow 2.19.0\n",
      "pandas 2.3.0\n",
      "numpy 2.1.3\n"
     ]
    }
   ],
   "source": [
    "import time\n",
    "import numpy as np\n",
    "import pandas as pd\n",
    "import tensorflow as tf\n",
    "import json\n",
    "import os\n",
    "from tensorflow import keras\n",
    "from tensorflow.keras.models import load_model\n",
    "from tensorflow.keras.preprocessing.sequence import pad_sequences\n",
    "from tensorflow.keras.preprocessing.text import tokenizer_from_json\n",
    "\n",
    "print(f'Библиотеки ипортированы:')\n",
    "print('tensorflow', tf.__version__)\n",
    "print('pandas', pd.__version__)\n",
    "print('numpy', np.__version__)"
   ]
  },
  {
   "cell_type": "markdown",
   "id": "25719162",
   "metadata": {},
   "source": [
    "## Конфигурация"
   ]
  },
  {
   "cell_type": "code",
   "execution_count": 12,
   "id": "3240673a",
   "metadata": {},
   "outputs": [],
   "source": [
    "MODEL_PATH = \"../model/model.keras\"\n",
    "TOKENIZER_PATH = \"../model/tokenizer/tokenizer.json\"\n",
    "CSV_PATH = \"../data/processed/dataset.csv\"\n",
    "MAX_LEN = 25"
   ]
  },
  {
   "cell_type": "markdown",
   "id": "c96a06e2",
   "metadata": {},
   "source": [
    "## Проверка конфигурации на наличие файлов"
   ]
  },
  {
   "cell_type": "code",
   "execution_count": 13,
   "id": "411c95b1",
   "metadata": {},
   "outputs": [
    {
     "name": "stdout",
     "output_type": "stream",
     "text": [
      "Модель импортирована из пути: ../model/model.keras\n",
      "Токенизатор импортирован из пути: ../model/tokenizer/tokenizer.json\n",
      "Датасет импортирован из пути: ../data/processed/dataset.csv\n",
      "Конфигурация гиперпараметра MAX_LEN установлена: 25\n"
     ]
    }
   ],
   "source": [
    "# Проверка наличия каждого файла\n",
    "missing_files = []\n",
    "\n",
    "if not os.path.isfile(MODEL_PATH):\n",
    "    missing_files.append(MODEL_PATH)\n",
    "if not os.path.isfile(TOKENIZER_PATH):\n",
    "    missing_files.append(TOKENIZER_PATH)\n",
    "if not os.path.isfile(CSV_PATH):\n",
    "    missing_files.append(CSV_PATH)\n",
    "\n",
    "# Вывод результата\n",
    "if missing_files:\n",
    "    print(\"Ошибка! Не найдены следующие файлы:\")\n",
    "    for file in missing_files:\n",
    "        print(f\"   - {file}\")\n",
    "else:\n",
    "    print(f\"Модель импортирована из пути: {MODEL_PATH}\")\n",
    "    print(f\"Токенизатор импортирован из пути: {TOKENIZER_PATH}\")\n",
    "    print(f\"Датасет импортирован из пути: {CSV_PATH}\")\n",
    "    print(f\"Конфигурация гиперпараметра MAX_LEN установлена: {MAX_LEN}\")"
   ]
  },
  {
   "cell_type": "markdown",
   "id": "888e89c3",
   "metadata": {},
   "source": [
    "## Загрузка модели, токенайзера и датасета"
   ]
  },
  {
   "cell_type": "code",
   "execution_count": 14,
   "id": "368943b3",
   "metadata": {},
   "outputs": [
    {
     "name": "stdout",
     "output_type": "stream",
     "text": [
      "Файл модели найден: ../model/model.keras\n",
      "Модель успешно загружена.\n"
     ]
    }
   ],
   "source": [
    "# Загрузка модели\n",
    "# Проверка существования файла перед загрузкой\n",
    "if os.path.isfile(MODEL_PATH):\n",
    "    print(f\"Файл модели найден: {MODEL_PATH}\")\n",
    "    model = load_model(MODEL_PATH)\n",
    "    print(\"Модель успешно загружена.\")\n",
    "else:\n",
    "    raise FileNotFoundError(f\"айл модели не найден по пути: {MODEL_PATH}\")"
   ]
  },
  {
   "cell_type": "code",
   "execution_count": 15,
   "id": "3a164df6",
   "metadata": {},
   "outputs": [
    {
     "name": "stdout",
     "output_type": "stream",
     "text": [
      "Файл токенизатора найден: ../model/tokenizer/tokenizer.json\n",
      "Токенизатор успешно загружен.\n"
     ]
    }
   ],
   "source": [
    "# Загрузка токенизатора\n",
    "# Проверка существования файла перед загрузкой токенизатора\n",
    "if os.path.isfile(TOKENIZER_PATH):\n",
    "    print(f\"Файл токенизатора найден: {TOKENIZER_PATH}\")\n",
    "    with open(TOKENIZER_PATH, \"r\", encoding=\"utf-8\") as f:\n",
    "        tokenizer = tokenizer_from_json(f.read())\n",
    "    print(\"Токенизатор успешно загружен.\")\n",
    "else:\n",
    "    raise FileNotFoundError(f\"Файл токенизатора не найден по пути: {TOKENIZER_PATH}\")"
   ]
  },
  {
   "cell_type": "code",
   "execution_count": 19,
   "id": "0af17db5",
   "metadata": {},
   "outputs": [
    {
     "name": "stdout",
     "output_type": "stream",
     "text": [
      "Файл найден: ../data/processed/dataset.csv\n",
      "Примеры 'грязных' слов: ['Apenines', 'Appenines', 'Athenean', 'Atheneans', 'Bernouilli', 'Blitzkreig', 'Brasillian', 'Britian', 'Brittish', 'Ceasar']\n"
     ]
    }
   ],
   "source": [
    "# Загрузка датасета\n",
    "# Проверка существования файла\n",
    "if not os.path.isfile(CSV_PATH):\n",
    "    raise FileNotFoundError(f\"Файл не найден по пути: {CSV_PATH}\")\n",
    "print(f\"Файл найден: {CSV_PATH}\")\n",
    "\n",
    "# Загрузка датасета\n",
    "df = pd.read_csv(CSV_PATH)\n",
    "\n",
    "# Проверка наличия колонки \"noisy\"\n",
    "if \"noisy\" not in df.columns:\n",
    "    raise ValueError(\"В датасете отсутствует колонка 'noisy'.\")\n",
    "\n",
    "# Получение первых 10 'грязных' слов\n",
    "sample_texts = df[\"noisy\"].astype(str).head(10).tolist()\n",
    "print(\"Примеры 'грязных' слов:\", sample_texts)"
   ]
  },
  {
   "cell_type": "markdown",
   "id": "849a54de",
   "metadata": {},
   "source": [
    "## Токенизация"
   ]
  },
  {
   "cell_type": "code",
   "execution_count": 20,
   "id": "76326f17",
   "metadata": {},
   "outputs": [],
   "source": [
    "sequences = tokenizer.texts_to_sequences(sample_texts)\n",
    "sample_data = pad_sequences(sequences, maxlen=MAX_LEN, padding='post')"
   ]
  },
  {
   "cell_type": "markdown",
   "id": "5a0d1b42",
   "metadata": {},
   "source": [
    "## Функция latency-теста"
   ]
  },
  {
   "cell_type": "code",
   "execution_count": 50,
   "id": "c2e05b3d",
   "metadata": {},
   "outputs": [
    {
     "name": "stdout",
     "output_type": "stream",
     "text": [
      "\u001b[1m1/1\u001b[0m \u001b[32m━━━━━━━━━━━━━━━━━━━━\u001b[0m\u001b[37m\u001b[0m \u001b[1m0s\u001b[0m 33ms/step\n",
      "✅ Латентность в пределах нормы: 0.09s\n"
     ]
    }
   ],
   "source": [
    "# Функция latency-теста\n",
    "def test_inference_latency(sample_data, model, threshold=0.5):\n",
    "    start = time.time()\n",
    "    _ = model.predict(sample_data)\n",
    "    elapsed = time.time() - start\n",
    "    if elapsed < threshold:\n",
    "        print(f\"✅ Латентность в пределах нормы: {elapsed:.2f}s\")\n",
    "    else:\n",
    "        print(f\"❌ Латентность {elapsed:.2f}s выше порога {threshold:.2f}s\")\n",
    "\n",
    "# Запуск теста\n",
    "test_inference_latency(sample_data, model)"
   ]
  }
 ],
 "metadata": {
  "kernelspec": {
   "display_name": "test_env",
   "language": "python",
   "name": "python3"
  },
  "language_info": {
   "codemirror_mode": {
    "name": "ipython",
    "version": 3
   },
   "file_extension": ".py",
   "mimetype": "text/x-python",
   "name": "python",
   "nbconvert_exporter": "python",
   "pygments_lexer": "ipython3",
   "version": "3.10.18"
  }
 },
 "nbformat": 4,
 "nbformat_minor": 5
}
