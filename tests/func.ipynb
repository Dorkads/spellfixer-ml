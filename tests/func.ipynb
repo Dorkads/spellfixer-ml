{
 "cells": [
  {
   "cell_type": "code",
   "execution_count": null,
   "id": "846e146a",
   "metadata": {},
   "outputs": [],
   "source": [
    "# Усов Руслан Николаевич\n",
    "# Тема преддипломной практики: «Разработка алгоритмов машинного обучения для обнаружения ошибок в текстах (на примере Частного образовательного учреждения высшего образования «Московский университет имени С.Ю. Витте»)»"
   ]
  },
  {
   "cell_type": "markdown",
   "id": "39e1a4db",
   "metadata": {},
   "source": [
    "# Функциональный тест метрики"
   ]
  },
  {
   "cell_type": "markdown",
   "id": "df69bcba",
   "metadata": {},
   "source": [
    "## Импорты"
   ]
  },
  {
   "cell_type": "code",
   "execution_count": 21,
   "id": "384bacd2",
   "metadata": {},
   "outputs": [
    {
     "name": "stdout",
     "output_type": "stream",
     "text": [
      "Библиотеки ипортированы:\n",
      "tensorflow 2.19.0\n",
      "sklearn 1.7.0\n",
      "pandas 2.3.0\n",
      "numpy 2.1.3\n"
     ]
    }
   ],
   "source": [
    "import pandas as pd\n",
    "import numpy as np\n",
    "import os\n",
    "import tensorflow as tf\n",
    "import sklearn as skl\n",
    "import json\n",
    "from tensorflow.keras.models import load_model\n",
    "from tensorflow.keras.preprocessing.text import tokenizer_from_json\n",
    "from tensorflow.keras.preprocessing.sequence import pad_sequences\n",
    "from sklearn.model_selection import train_test_split\n",
    "from sklearn.metrics import accuracy_score\n",
    "\n",
    "print(f'Библиотеки ипортированы:')\n",
    "print('tensorflow', tf.__version__)\n",
    "print('sklearn', skl.__version__)\n",
    "print('pandas', pd.__version__)\n",
    "print('numpy', np.__version__)"
   ]
  },
  {
   "cell_type": "markdown",
   "id": "46f5e34e",
   "metadata": {},
   "source": [
    "## Конфигурация"
   ]
  },
  {
   "cell_type": "code",
   "execution_count": 4,
   "id": "6ba4ef23",
   "metadata": {},
   "outputs": [],
   "source": [
    "MODEL_PATH = \"../model/model.keras\"\n",
    "TOKENIZER_PATH = \"../model/tokenizer/tokenizer.json\"\n",
    "CSV_PATH = \"../data/processed/dataset.csv\"\n",
    "MAX_LEN = 25"
   ]
  },
  {
   "cell_type": "markdown",
   "id": "d75a4d30",
   "metadata": {},
   "source": [
    "## Проверка конфигурации на наличие файлов"
   ]
  },
  {
   "cell_type": "code",
   "execution_count": 5,
   "id": "cc0cab02",
   "metadata": {},
   "outputs": [
    {
     "name": "stdout",
     "output_type": "stream",
     "text": [
      "Модель импортирована из пути: ../model/model.keras\n",
      "Токенизатор импортирован из пути: ../model/tokenizer/tokenizer.json\n",
      "Датасет импортирован из пути: ../data/processed/dataset.csv\n",
      "Конфигурация гиперпараметра MAX_LEN установлена: 25\n"
     ]
    }
   ],
   "source": [
    "# Проверка наличия каждого файла\n",
    "missing_files = []\n",
    "\n",
    "if not os.path.isfile(MODEL_PATH):\n",
    "    missing_files.append(MODEL_PATH)\n",
    "if not os.path.isfile(TOKENIZER_PATH):\n",
    "    missing_files.append(TOKENIZER_PATH)\n",
    "if not os.path.isfile(CSV_PATH):\n",
    "    missing_files.append(CSV_PATH)\n",
    "\n",
    "# Вывод результата\n",
    "if missing_files:\n",
    "    print(\"Ошибка! Не найдены следующие файлы:\")\n",
    "    for file in missing_files:\n",
    "        print(f\"   - {file}\")\n",
    "else:\n",
    "    print(f\"Модель импортирована из пути: {MODEL_PATH}\")\n",
    "    print(f\"Токенизатор импортирован из пути: {TOKENIZER_PATH}\")\n",
    "    print(f\"Датасет импортирован из пути: {CSV_PATH}\")\n",
    "    print(f\"Конфигурация гиперпараметра MAX_LEN установлена: {MAX_LEN}\")"
   ]
  },
  {
   "cell_type": "markdown",
   "id": "daafffe4",
   "metadata": {},
   "source": [
    "## Загрузка модели, токенайзера и словаря"
   ]
  },
  {
   "cell_type": "code",
   "execution_count": 6,
   "id": "b3f7f382",
   "metadata": {},
   "outputs": [
    {
     "name": "stdout",
     "output_type": "stream",
     "text": [
      "Файл модели найден: ../model/model.keras\n",
      "Модель успешно загружена.\n"
     ]
    }
   ],
   "source": [
    "# Загрузка модели\n",
    "# Проверка существования файла перед загрузкой\n",
    "if os.path.isfile(MODEL_PATH):\n",
    "    print(f\"Файл модели найден: {MODEL_PATH}\")\n",
    "    model = load_model(MODEL_PATH)\n",
    "    print(\"Модель успешно загружена.\")\n",
    "else:\n",
    "    raise FileNotFoundError(f\"айл модели не найден по пути: {MODEL_PATH}\")"
   ]
  },
  {
   "cell_type": "code",
   "execution_count": 7,
   "id": "503eb44e",
   "metadata": {},
   "outputs": [
    {
     "name": "stdout",
     "output_type": "stream",
     "text": [
      "Файл токенизатора найден: ../model/tokenizer/tokenizer.json\n",
      "Токенизатор успешно загружен.\n"
     ]
    }
   ],
   "source": [
    "# Загрузка токенизатора\n",
    "# Проверка существования файла перед загрузкой токенизатора\n",
    "if os.path.isfile(TOKENIZER_PATH):\n",
    "    print(f\"Файл токенизатора найден: {TOKENIZER_PATH}\")\n",
    "    with open(TOKENIZER_PATH, \"r\", encoding=\"utf-8\") as f:\n",
    "        tokenizer = tokenizer_from_json(f.read())\n",
    "    print(\"Токенизатор успешно загружен.\")\n",
    "else:\n",
    "    raise FileNotFoundError(f\"Файл токенизатора не найден по пути: {TOKENIZER_PATH}\")"
   ]
  },
  {
   "cell_type": "code",
   "execution_count": 10,
   "id": "0f7c13c7",
   "metadata": {},
   "outputs": [
    {
     "name": "stdout",
     "output_type": "stream",
     "text": [
      "Файл найден: ../data/processed/dataset.csv\n",
      "Метка 'is_wrong' успешно добавлена к датафрейму.\n"
     ]
    }
   ],
   "source": [
    "# Загрузка словаря исправлений\n",
    "# Проверка существования CSV-файла перед загрузкой\n",
    "if not os.path.isfile(CSV_PATH):\n",
    "    raise FileNotFoundError(f\"❌ Файл не найден по пути: {CSV_PATH}\")\n",
    "\n",
    "print(f\"Файл найден: {CSV_PATH}\")\n",
    "df = pd.read_csv(CSV_PATH)\n",
    "\n",
    "# Проверка нужных столбцов\n",
    "required_columns = {\"correct\", \"noisy\"}\n",
    "if not required_columns.issubset(df.columns):\n",
    "    raise ValueError(f\"В датасете отсутствуют необходимые колонки: {required_columns - set(df.columns)}\")\n",
    "\n",
    "# Формируем метку ошибки\n",
    "df[\"is_wrong\"] = (df[\"correct\"] != df[\"noisy\"]).astype(int)\n",
    "print(\"Метка 'is_wrong' успешно добавлена к датафрейму.\")"
   ]
  },
  {
   "cell_type": "markdown",
   "id": "0d2e1d59",
   "metadata": {},
   "source": [
    "## Настройка модели на train данные"
   ]
  },
  {
   "cell_type": "code",
   "execution_count": 14,
   "id": "8478909c",
   "metadata": {},
   "outputs": [
    {
     "name": "stdout",
     "output_type": "stream",
     "text": [
      "\u001b[1m978/978\u001b[0m \u001b[32m━━━━━━━━━━━━━━━━━━━━\u001b[0m\u001b[37m\u001b[0m \u001b[1m5s\u001b[0m 5ms/step\n",
      "✅ Accuracy по is_wrong: 0.794\n"
     ]
    }
   ],
   "source": [
    "#  Сплит на train\n",
    "X_train_texts, _, y_train, _ = train_test_split(\n",
    "    df[\"noisy\"], df[\"is_wrong\"], test_size=0.2, random_state=42\n",
    ")\n",
    "\n",
    "# Преобразование входных текстов\n",
    "seqs = tokenizer.texts_to_sequences(X_train_texts.astype(str).tolist())\n",
    "X_train = pad_sequences(seqs, maxlen=MAX_LEN, padding=\"post\")\n",
    "\n",
    "# Предсказания\n",
    "y_pred_probs = model.predict(X_train, batch_size=32)\n",
    "y_pred = (y_pred_probs > 0.5).astype(int).flatten()  # sigmoid → бинаризация\n",
    "\n",
    "# Вывод метрики Accuracy\n",
    "acc = accuracy_score(y_train, y_pred)\n",
    "print(f\"✅ Accuracy по is_wrong: {acc:.3f}\")"
   ]
  },
  {
   "cell_type": "markdown",
   "id": "8357e471",
   "metadata": {},
   "source": [
    "# Создание графика матрицы ошибок"
   ]
  },
  {
   "cell_type": "markdown",
   "id": "e4802014",
   "metadata": {},
   "source": [
    "## Импорты"
   ]
  },
  {
   "cell_type": "code",
   "execution_count": 19,
   "id": "f2ed33c2",
   "metadata": {},
   "outputs": [
    {
     "name": "stdout",
     "output_type": "stream",
     "text": [
      "Библиотеки импортированы:\n",
      "matplotlib 3.10.3\n",
      "seaborn 0.13.2\n",
      "sklearn 1.7.0\n"
     ]
    }
   ],
   "source": [
    "import seaborn as sns\n",
    "import matplotlib as mlt\n",
    "import matplotlib.pyplot as plt\n",
    "import sklearn as skl\n",
    "from sklearn.metrics import confusion_matrix\n",
    "\n",
    "print(f'Библиотеки импортированы:')\n",
    "print('matplotlib', mlt.__version__)\n",
    "print('seaborn', sns.__version__)\n",
    "print('sklearn', skl.__version__)"
   ]
  },
  {
   "cell_type": "markdown",
   "id": "a6a0b7fe",
   "metadata": {},
   "source": [
    "## Построение графика"
   ]
  },
  {
   "cell_type": "code",
   "execution_count": 17,
   "id": "a12137f0",
   "metadata": {},
   "outputs": [
    {
     "data": {
      "image/png": "[encoded data removed]",
      "text/plain": [
       "<Figure size 640x480 with 2 Axes>"
      ]
     },
     "metadata": {},
     "output_type": "display_data"
    }
   ],
   "source": [
    "cm = confusion_matrix(y_train, y_pred)\n",
    "sns.heatmap(cm, annot=True, fmt='d', cmap='Blues', xticklabels=['Correct', 'Wrong'], yticklabels=['Correct', 'Wrong'])\n",
    "plt.xlabel('Predicted')\n",
    "plt.ylabel('Actual')\n",
    "plt.title('Confusion Matrix')\n",
    "plt.savefig('../src/tests-stat/matrix.png', dpi=300)\n",
    "plt.show()"
   ]
  },
  {
   "cell_type": "markdown",
   "id": "1f2da5c8",
   "metadata": {},
   "source": [
    "## Вывод матрицы в виде таблицы"
   ]
  },
  {
   "cell_type": "code",
   "execution_count": 18,
   "id": "d7b396f3",
   "metadata": {},
   "outputs": [
    {
     "name": "stdout",
     "output_type": "stream",
     "text": [
      "              precision    recall  f1-score   support\n",
      "\n",
      "           0      0.001     0.417     0.002        12\n",
      "           1      1.000     0.794     0.885     31283\n",
      "\n",
      "    accuracy                          0.794     31295\n",
      "   macro avg      0.500     0.605     0.443     31295\n",
      "weighted avg      0.999     0.794     0.885     31295\n",
      "\n"
     ]
    }
   ],
   "source": [
    "from sklearn.metrics import classification_report\n",
    "\n",
    "print(classification_report(y_train, y_pred, digits=3))"
   ]
  }
 ],
 "metadata": {
  "kernelspec": {
   "display_name": "test_env",
   "language": "python",
   "name": "python3"
  },
  "language_info": {
   "codemirror_mode": {
    "name": "ipython",
    "version": 3
   },
   "file_extension": ".py",
   "mimetype": "text/x-python",
   "name": "python",
   "nbconvert_exporter": "python",
   "pygments_lexer": "ipython3",
   "version": "3.10.18"
  }
 },
 "nbformat": 4,
 "nbformat_minor": 5
}
