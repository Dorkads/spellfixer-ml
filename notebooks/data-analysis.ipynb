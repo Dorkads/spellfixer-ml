{
 "cells": [
  {
   "cell_type": "code",
   "execution_count": null,
   "id": "0a109314",
   "metadata": {},
   "outputs": [],
   "source": [
    "# Усов Руслан Николаевич\n",
    "# Тема преддипломной практики: «Разработка алгоритмов машинного обучения для обнаружения ошибок в текстах (на примере Частного образовательного учреждения высшего образования «Московский университет имени С.Ю. Витте»)»"
   ]
  },
  {
   "cell_type": "markdown",
   "id": "c7a28487",
   "metadata": {},
   "source": [
    "# Первичная обработка данных, анализ"
   ]
  },
  {
   "cell_type": "code",
   "execution_count": 2,
   "id": "977a0a11",
   "metadata": {},
   "outputs": [],
   "source": [
    "# Импорты\n",
    "import pandas as pd\n",
    "import os"
   ]
  },
  {
   "cell_type": "markdown",
   "id": "5a4aa7e8",
   "metadata": {},
   "source": [
    "## Объединение датасета разных файлов в один"
   ]
  },
  {
   "cell_type": "code",
   "execution_count": 3,
   "id": "e4f0eda2",
   "metadata": {},
   "outputs": [],
   "source": [
    "# Пути к файлам\n",
    "input_files = [\n",
    "    \"../data/raw/wikipedia.txt\",\n",
    "    \"../data/raw/aspell.txt\",\n",
    "    \"../data/raw/birkbeck.txt\"\n",
    "]\n",
    "\n",
    "# Парсер файлов\n",
    "def parse_file(path):\n",
    "    data = []\n",
    "    with open(path, \"r\", encoding=\"utf-8\") as file:\n",
    "        for line in file:\n",
    "            if \":\" not in line:\n",
    "                continue\n",
    "            correct, typos = line.split(\":\", 1)\n",
    "            correct = correct.strip()\n",
    "            for typo in typos.strip().split():\n",
    "                data.append({\"correct\": correct, \"noisy\": typo})\n",
    "    return data\n",
    "\n",
    "# Сбор всех строк из всех файлов\n",
    "all_data = []\n",
    "for file_path in input_files:\n",
    "    if os.path.exists(file_path):\n",
    "        all_data.extend(parse_file(file_path))\n",
    "    else:\n",
    "        print(f\"Файл не найден: {file_path}\")\n",
    "\n",
    "# Преобразование в DataFrame\n",
    "df = pd.DataFrame(all_data)\n",
    "\n",
    "# Сохранение в CSV\n",
    "output_path = \"../data/processed/dataset.csv\"\n",
    "os.makedirs(os.path.dirname(output_path), exist_ok=True)\n",
    "df.to_csv(output_path, index=False, encoding=\"utf-8\")"
   ]
  }
 ],
 "metadata": {
  "kernelspec": {
   "display_name": "DataAnalist",
   "language": "python",
   "name": "python3"
  },
  "language_info": {
   "codemirror_mode": {
    "name": "ipython",
    "version": 3
   },
   "file_extension": ".py",
   "mimetype": "text/x-python",
   "name": "python",
   "nbconvert_exporter": "python",
   "pygments_lexer": "ipython3",
   "version": "3.10.16"
  }
 },
 "nbformat": 4,
 "nbformat_minor": 5
}
