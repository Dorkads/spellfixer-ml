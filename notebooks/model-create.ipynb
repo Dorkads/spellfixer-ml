{
 "cells": [
  {
   "cell_type": "code",
   "execution_count": null,
   "id": "182eae63",
   "metadata": {},
   "outputs": [],
   "source": [
    "# Усов Руслан Николаевич\n",
    "# Тема преддипломной практики: «Разработка алгоритмов машинного обучения для обнаружения ошибок в текстах (на примере Частного образовательного учреждения высшего образования «Московский университет имени С.Ю. Витте»)»"
   ]
  },
  {
   "cell_type": "markdown",
   "id": "8e4261e7",
   "metadata": {},
   "source": [
    "# Построение модели"
   ]
  },
  {
   "cell_type": "markdown",
   "id": "f92fbf57",
   "metadata": {},
   "source": [
    "## Установка зависимостей"
   ]
  },
  {
   "cell_type": "code",
   "execution_count": null,
   "id": "2654919c",
   "metadata": {},
   "outputs": [],
   "source": [
    "## Установка зависимостей\n",
    "\n",
    "print(\"Начало установки зависимостей...\")\n",
    "!pip install pandas scikit-learn tensorflow matplotlib numpy\n",
    "print(\"Установка зависимостей завершена.\")"
   ]
  },
  {
   "cell_type": "markdown",
   "id": "949566a5",
   "metadata": {},
   "source": [
    "## Импорты"
   ]
  },
  {
   "cell_type": "code",
   "execution_count": 1,
   "id": "6eba6d09",
   "metadata": {},
   "outputs": [
    {
     "name": "stdout",
     "output_type": "stream",
     "text": [
      "Установка зависимостей и импорт библиотек - начало\n",
      "Зависимости установлены и библиотеки импортированы:\n",
      "matplotlib 3.10.3\n",
      "numpy 2.1.3\n",
      "tensorflow 2.19.0\n"
     ]
    }
   ],
   "source": [
    "print(\"Установка зависимостей и импорт библиотек - начало\")\n",
    "import os\n",
    "import tensorflow as tf\n",
    "import pandas as pd\n",
    "import numpy as np\n",
    "from tensorflow.keras.preprocessing.text import Tokenizer\n",
    "from tensorflow.keras.preprocessing.sequence import pad_sequences\n",
    "from tensorflow.keras.models import Sequential\n",
    "from tensorflow.keras.layers import Embedding, LSTM, Dense, Bidirectional\n",
    "from tensorflow.keras.callbacks import ModelCheckpoint, EarlyStopping\n",
    "import matplotlib\n",
    "import matplotlib.pyplot as plt\n",
    "print(\"Зависимости установлены и библиотеки импортированы:\")\n",
    "\n",
    "print('matplotlib', matplotlib.__version__)\n",
    "print('numpy', np.__version__)\n",
    "print('tensorflow', tf.__version__)\n"
   ]
  },
  {
   "cell_type": "markdown",
   "id": "2105b4ca",
   "metadata": {},
   "source": [
    "## Создание единой конфигурации для модели"
   ]
  },
  {
   "cell_type": "code",
   "execution_count": 2,
   "id": "9e8355e0",
   "metadata": {},
   "outputs": [
    {
     "name": "stdout",
     "output_type": "stream",
     "text": [
      "Конфигурация - начало\n",
      "Конфиг установлен: {'max_vocab_size': 15000, 'max_sequence_len': 25, 'embedding_dim': 128, 'lstm_units': 64, 'dropout_rate': 0.3, 'batch_size': 64, 'epochs': 15, 'patience': 3, 'model_dir': '../model/model.keras', 'best_model_path': '../model/b2/best_model.keras'}\n"
     ]
    }
   ],
   "source": [
    "print(\"Конфигурация - начало\")\n",
    "config = {\n",
    "    \"max_vocab_size\": 15000,\n",
    "    \"max_sequence_len\": 25,\n",
    "    \"embedding_dim\": 128,\n",
    "    \"lstm_units\": 64,\n",
    "    \"dropout_rate\": 0.3,\n",
    "    \"batch_size\": 64,\n",
    "    \"epochs\": 15,\n",
    "    \"patience\": 3,\n",
    "    \"model_dir\": \"../model/model.keras\",\n",
    "    \"best_model_path\": \"../model/b2/best_model.keras\"\n",
    "}\n",
    "print(f\"Конфиг установлен: {config}\")"
   ]
  },
  {
   "cell_type": "markdown",
   "id": "88131f15",
   "metadata": {},
   "source": [
    "## Загрузка df, создание словаря"
   ]
  },
  {
   "cell_type": "code",
   "execution_count": 4,
   "id": "b38a3521",
   "metadata": {},
   "outputs": [
    {
     "name": "stdout",
     "output_type": "stream",
     "text": [
      "Загрузка датасета - начало\n",
      "Загружено 39119 записей\n",
      "Данные загружены и очищены\n"
     ]
    }
   ],
   "source": [
    "# Загрузка и подготовка данных\n",
    "print(\"Загрузка датасета - начало\")\n",
    "df = pd.read_csv(\"../data/processed/dataset.csv\")\n",
    "print(f\"Загружено {len(df)} записей\")\n",
    "# Приводим к строкам и убираем NaN\n",
    "for col in [\"noisy\", \"correct\"]:\n",
    "    df[col] = df[col].fillna(\"\").astype(str)\n",
    "# Создаем словарь исправлений\n",
    "corrections = dict(zip(df[\"noisy\"], df[\"correct\"]))\n",
    "# Готовим тексты и метки\n",
    "texts = df[\"noisy\"].tolist() + df[\"correct\"].tolist()\n",
    "labels = [1] * len(df) + [0] * len(df)\n",
    "print(\"Данные загружены и очищены\")"
   ]
  },
  {
   "cell_type": "markdown",
   "id": "c15f2ce8",
   "metadata": {},
   "source": [
    "## Предобработка текста (char-level)"
   ]
  },
  {
   "cell_type": "code",
   "execution_count": 5,
   "id": "f3c4c70e",
   "metadata": {},
   "outputs": [
    {
     "name": "stdout",
     "output_type": "stream",
     "text": [
      "Предобработка - начало\n",
      "Предобработка выолнена: char-level последовательности созданы\n"
     ]
    }
   ],
   "source": [
    "# Предобработка текста (char-level)\n",
    "print(\"Предобработка - начало\")\n",
    "assert all(isinstance(t, str) for t in texts), \"Некоторые тексты не являются строками!\"\n",
    "tokenizer = Tokenizer(char_level=True, num_words=config[\"max_vocab_size\"], oov_token=\"<OOV>\")\n",
    "tokenizer.fit_on_texts(texts)\n",
    "sequences = tokenizer.texts_to_sequences(texts)\n",
    "padded = pad_sequences(sequences, maxlen=config[\"max_sequence_len\"], padding='post')\n",
    "labels_array = np.array(labels)\n",
    "from sklearn.model_selection import train_test_split\n",
    "X_train, X_val, y_train, y_val = train_test_split(padded, labels_array, test_size=0.2, random_state=42)\n",
    "print(\"Предобработка выолнена: char-level последовательности созданы\")"
   ]
  },
  {
   "cell_type": "code",
   "execution_count": 6,
   "id": "19659bd9",
   "metadata": {},
   "outputs": [
    {
     "name": "stdout",
     "output_type": "stream",
     "text": [
      "Начало сериализации\n"
     ]
    },
    {
     "ename": "FileNotFoundError",
     "evalue": "[Errno 2] No such file or directory: '../model/tokenizer/tokenizer.json'",
     "output_type": "error",
     "traceback": [
      "\u001b[1;31m---------------------------------------------------------------------------\u001b[0m",
      "\u001b[1;31mFileNotFoundError\u001b[0m                         Traceback (most recent call last)",
      "Cell \u001b[1;32mIn[6], line 5\u001b[0m\n\u001b[0;32m      2\u001b[0m \u001b[38;5;28mprint\u001b[39m(\u001b[38;5;124m'\u001b[39m\u001b[38;5;124mНачало сериализации\u001b[39m\u001b[38;5;124m'\u001b[39m)\n\u001b[0;32m      4\u001b[0m tokenizer_json \u001b[38;5;241m=\u001b[39m tokenizer\u001b[38;5;241m.\u001b[39mto_json()\n\u001b[1;32m----> 5\u001b[0m \u001b[38;5;28;01mwith\u001b[39;00m \u001b[38;5;28;43mopen\u001b[39;49m\u001b[43m(\u001b[49m\u001b[38;5;124;43m\"\u001b[39;49m\u001b[38;5;124;43m../model/tokenizer/tokenizer.json\u001b[39;49m\u001b[38;5;124;43m\"\u001b[39;49m\u001b[43m,\u001b[49m\u001b[43m \u001b[49m\u001b[38;5;124;43m\"\u001b[39;49m\u001b[38;5;124;43mw\u001b[39;49m\u001b[38;5;124;43m\"\u001b[39;49m\u001b[43m,\u001b[49m\u001b[43m \u001b[49m\u001b[43mencoding\u001b[49m\u001b[38;5;241;43m=\u001b[39;49m\u001b[38;5;124;43m\"\u001b[39;49m\u001b[38;5;124;43mutf-8\u001b[39;49m\u001b[38;5;124;43m\"\u001b[39;49m\u001b[43m)\u001b[49m \u001b[38;5;28;01mas\u001b[39;00m f:\n\u001b[0;32m      6\u001b[0m     f\u001b[38;5;241m.\u001b[39mwrite(tokenizer_json)\n\u001b[0;32m      8\u001b[0m \u001b[38;5;28mprint\u001b[39m(\u001b[38;5;124m'\u001b[39m\u001b[38;5;124mСериализация завершена\u001b[39m\u001b[38;5;124m'\u001b[39m)\n",
      "File \u001b[1;32mc:\\Users\\Rreeo\\.conda\\envs\\test_env\\lib\\site-packages\\IPython\\core\\interactiveshell.py:324\u001b[0m, in \u001b[0;36m_modified_open\u001b[1;34m(file, *args, **kwargs)\u001b[0m\n\u001b[0;32m    317\u001b[0m \u001b[38;5;28;01mif\u001b[39;00m file \u001b[38;5;129;01min\u001b[39;00m {\u001b[38;5;241m0\u001b[39m, \u001b[38;5;241m1\u001b[39m, \u001b[38;5;241m2\u001b[39m}:\n\u001b[0;32m    318\u001b[0m     \u001b[38;5;28;01mraise\u001b[39;00m \u001b[38;5;167;01mValueError\u001b[39;00m(\n\u001b[0;32m    319\u001b[0m         \u001b[38;5;124mf\u001b[39m\u001b[38;5;124m\"\u001b[39m\u001b[38;5;124mIPython won\u001b[39m\u001b[38;5;124m'\u001b[39m\u001b[38;5;124mt let you open fd=\u001b[39m\u001b[38;5;132;01m{\u001b[39;00mfile\u001b[38;5;132;01m}\u001b[39;00m\u001b[38;5;124m by default \u001b[39m\u001b[38;5;124m\"\u001b[39m\n\u001b[0;32m    320\u001b[0m         \u001b[38;5;124m\"\u001b[39m\u001b[38;5;124mas it is likely to crash IPython. If you know what you are doing, \u001b[39m\u001b[38;5;124m\"\u001b[39m\n\u001b[0;32m    321\u001b[0m         \u001b[38;5;124m\"\u001b[39m\u001b[38;5;124myou can use builtins\u001b[39m\u001b[38;5;124m'\u001b[39m\u001b[38;5;124m open.\u001b[39m\u001b[38;5;124m\"\u001b[39m\n\u001b[0;32m    322\u001b[0m     )\n\u001b[1;32m--> 324\u001b[0m \u001b[38;5;28;01mreturn\u001b[39;00m io_open(file, \u001b[38;5;241m*\u001b[39margs, \u001b[38;5;241m*\u001b[39m\u001b[38;5;241m*\u001b[39mkwargs)\n",
      "\u001b[1;31mFileNotFoundError\u001b[0m: [Errno 2] No such file or directory: '../model/tokenizer/tokenizer.json'"
     ]
    }
   ],
   "source": [
    "# Сериализуем в JSON tokenizer и имортируем\n",
    "print('Начало сериализации')\n",
    "\n",
    "tokenizer_json = tokenizer.to_json()\n",
    "with open(\"../model/tokenizer/tokenizer.json\", \"w\", encoding=\"utf-8\") as f:\n",
    "    f.write(tokenizer_json)\n",
    "    \n",
    "print('Сериализация завершена')"
   ]
  }
 ],
 "metadata": {
  "kernelspec": {
   "display_name": "test_env",
   "language": "python",
   "name": "python3"
  },
  "language_info": {
   "codemirror_mode": {
    "name": "ipython",
    "version": 3
   },
   "file_extension": ".py",
   "mimetype": "text/x-python",
   "name": "python",
   "nbconvert_exporter": "python",
   "pygments_lexer": "ipython3",
   "version": "3.10.18"
  }
 },
 "nbformat": 4,
 "nbformat_minor": 5
}
