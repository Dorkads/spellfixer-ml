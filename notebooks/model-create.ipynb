{
 "cells": [
  {
   "cell_type": "code",
   "execution_count": null,
   "id": "182eae63",
   "metadata": {},
   "outputs": [],
   "source": [
    "# Усов Руслан Николаевич\n",
    "# Тема преддипломной практики: «Разработка алгоритмов машинного обучения для обнаружения ошибок в текстах (на примере Частного образовательного учреждения высшего образования «Московский университет имени С.Ю. Витте»)»"
   ]
  },
  {
   "cell_type": "markdown",
   "id": "8e4261e7",
   "metadata": {},
   "source": [
    "# Построение модели"
   ]
  },
  {
   "cell_type": "markdown",
   "id": "f92fbf57",
   "metadata": {},
   "source": [
    "## Установка зависимостей"
   ]
  },
  {
   "cell_type": "code",
   "execution_count": null,
   "id": "2654919c",
   "metadata": {},
   "outputs": [],
   "source": [
    "## Установка зависимостей\n",
    "\n",
    "print(\"Начало установки зависимостей...\")\n",
    "!pip install pandas scikit-learn tensorflow matplotlib numpy\n",
    "print(\"Установка зависимостей завершена.\")"
   ]
  },
  {
   "cell_type": "markdown",
   "id": "949566a5",
   "metadata": {},
   "source": [
    "## Импорты"
   ]
  },
  {
   "cell_type": "code",
   "execution_count": null,
   "id": "6eba6d09",
   "metadata": {},
   "outputs": [
    {
     "name": "stdout",
     "output_type": "stream",
     "text": [
      "Установка зависимостей и импорт библиотек - начало\n",
      "Зависимости установлены и библиотеки импортированы:\n",
      "matplotlib 3.10.3\n",
      "numpy 2.1.3\n",
      "tensorflow 2.19.0\n"
     ]
    }
   ],
   "source": [
    "print(\"Импорт библиотек - начало\")\n",
    "import os\n",
    "import json\n",
    "import tensorflow as tf\n",
    "import pandas as pd\n",
    "import numpy as np\n",
    "from tensorflow.keras.preprocessing.text import Tokenizer\n",
    "from tensorflow.keras.preprocessing.sequence import pad_sequences\n",
    "from tensorflow.keras.models import Sequential\n",
    "from tensorflow.keras.layers import Embedding, LSTM, Dense, Bidirectional\n",
    "from tensorflow.keras.callbacks import ModelCheckpoint, EarlyStopping\n",
    "import matplotlib\n",
    "import matplotlib.pyplot as plt\n",
    "print(\"Библиотеки импортированы:\")\n",
    "\n",
    "print('matplotlib', matplotlib.__version__)\n",
    "print('numpy', np.__version__)\n",
    "print('tensorflow', tf.__version__)\n"
   ]
  },
  {
   "cell_type": "markdown",
   "id": "2105b4ca",
   "metadata": {},
   "source": [
    "## Создание единой конфигурации для модели"
   ]
  },
  {
   "cell_type": "code",
   "execution_count": null,
   "id": "9e8355e0",
   "metadata": {},
   "outputs": [
    {
     "name": "stdout",
     "output_type": "stream",
     "text": [
      "Конфигурация - начало\n",
      "Конфиг установлен: {'max_vocab_size': 15000, 'max_sequence_len': 25, 'embedding_dim': 128, 'lstm_units': 64, 'dropout_rate': 0.3, 'batch_size': 64, 'epochs': 15, 'patience': 3, 'model_dir': '../model/model.keras', 'best_model_path': '../model/b2/best_model.keras'}\n"
     ]
    }
   ],
   "source": [
    "print(\"Конфигурация - начало\")\n",
    "config = {\n",
    "    \"max_vocab_size\": 15000,\n",
    "    \"max_sequence_len\": 25,\n",
    "    \"embedding_dim\": 128,\n",
    "    \"lstm_units\": 64,\n",
    "    \"dropout_rate\": 0.3,\n",
    "    \"batch_size\": 64,\n",
    "    \"epochs\": 15,\n",
    "    \"patience\": 3,\n",
    "    \"model_dir\": \"../model/model.keras\",\n",
    "    \"best_model_path\": \"../model/bm/best_model.keras\"\n",
    "}\n",
    "print(f\"Конфиг установлен: {config}\")"
   ]
  },
  {
   "cell_type": "markdown",
   "id": "88131f15",
   "metadata": {},
   "source": [
    "## Загрузка df, создание словаря"
   ]
  },
  {
   "cell_type": "code",
   "execution_count": 4,
   "id": "b38a3521",
   "metadata": {},
   "outputs": [
    {
     "name": "stdout",
     "output_type": "stream",
     "text": [
      "Загрузка датасета - начало\n",
      "Загружено 39119 записей\n",
      "Данные загружены и очищены\n"
     ]
    }
   ],
   "source": [
    "# Загрузка и подготовка данных\n",
    "print(\"Загрузка датасета - начало\")\n",
    "df = pd.read_csv(\"../data/processed/dataset.csv\")\n",
    "print(f\"Загружено {len(df)} записей\")\n",
    "# Приводим к строкам и убираем NaN\n",
    "for col in [\"noisy\", \"correct\"]:\n",
    "    df[col] = df[col].fillna(\"\").astype(str)\n",
    "# Создаем словарь исправлений\n",
    "corrections = dict(zip(df[\"noisy\"], df[\"correct\"]))\n",
    "# Готовим тексты и метки\n",
    "texts = df[\"noisy\"].tolist() + df[\"correct\"].tolist()\n",
    "labels = [1] * len(df) + [0] * len(df)\n",
    "print(\"Данные загружены и очищены\")"
   ]
  },
  {
   "cell_type": "markdown",
   "id": "c15f2ce8",
   "metadata": {},
   "source": [
    "## Предобработка текста (char-level)"
   ]
  },
  {
   "cell_type": "code",
   "execution_count": 5,
   "id": "f3c4c70e",
   "metadata": {},
   "outputs": [
    {
     "name": "stdout",
     "output_type": "stream",
     "text": [
      "Предобработка - начало\n",
      "Предобработка выолнена: char-level последовательности созданы\n"
     ]
    }
   ],
   "source": [
    "# Предобработка текста (char-level)\n",
    "print(\"Предобработка - начало\")\n",
    "assert all(isinstance(t, str) for t in texts), \"Некоторые тексты не являются строками!\"\n",
    "tokenizer = Tokenizer(char_level=True, num_words=config[\"max_vocab_size\"], oov_token=\"<OOV>\")\n",
    "tokenizer.fit_on_texts(texts)\n",
    "sequences = tokenizer.texts_to_sequences(texts)\n",
    "padded = pad_sequences(sequences, maxlen=config[\"max_sequence_len\"], padding='post')\n",
    "labels_array = np.array(labels)\n",
    "from sklearn.model_selection import train_test_split\n",
    "X_train, X_val, y_train, y_val = train_test_split(padded, labels_array, test_size=0.2, random_state=42)\n",
    "print(\"Предобработка выолнена: char-level последовательности созданы\")"
   ]
  },
  {
   "cell_type": "code",
   "execution_count": null,
   "id": "19659bd9",
   "metadata": {},
   "outputs": [
    {
     "name": "stdout",
     "output_type": "stream",
     "text": [
      "Начало сериализации\n",
      "Сериализация завершена\n"
     ]
    }
   ],
   "source": [
    "# Сериализуем в JSON tokenizer и экспортируем\n",
    "print('Начало сериализации')\n",
    "\n",
    "# Создаём папку, если её нет\n",
    "output_path = \"../model/tokenizer/tokenizer.json\"\n",
    "os.makedirs(os.path.dirname(output_path), exist_ok=True)\n",
    "\n",
    "# Сохраняем токенайзер\n",
    "tokenizer_json = tokenizer.to_json()\n",
    "with open(output_path, \"w\", encoding=\"utf-8\") as f:\n",
    "    f.write(tokenizer_json)\n",
    "\n",
    "print('Сериализация завершена')"
   ]
  },
  {
   "cell_type": "markdown",
   "id": "95d2ec2a",
   "metadata": {},
   "source": [
    "## Построение модели"
   ]
  },
  {
   "cell_type": "code",
   "execution_count": 9,
   "id": "02984fc6",
   "metadata": {},
   "outputs": [
    {
     "name": "stdout",
     "output_type": "stream",
     "text": [
      "Построение модели - начало\n",
      "Функция build_model: начало - создание LSTM классификатора\n"
     ]
    },
    {
     "name": "stderr",
     "output_type": "stream",
     "text": [
      "c:\\Users\\Rreeo\\.conda\\envs\\test_env\\lib\\site-packages\\keras\\src\\layers\\core\\embedding.py:100: UserWarning: Do not pass an `input_shape`/`input_dim` argument to a layer. When using Sequential models, prefer using an `Input(shape)` object as the first layer in the model instead.\n",
      "  super().__init__(**kwargs)\n"
     ]
    },
    {
     "name": "stdout",
     "output_type": "stream",
     "text": [
      "Функция build_model: завершение - модель построена и скомпилирована\n",
      "Модель готова к обучению\n"
     ]
    },
    {
     "data": {
      "text/html": [
       "<pre style=\"white-space:pre;overflow-x:auto;line-height:normal;font-family:Menlo,'DejaVu Sans Mono',consolas,'Courier New',monospace\"><span style=\"font-weight: bold\">Model: \"sequential\"</span>\n",
       "</pre>\n"
      ],
      "text/plain": [
       "\u001b[1mModel: \"sequential\"\u001b[0m\n"
      ]
     },
     "metadata": {},
     "output_type": "display_data"
    },
    {
     "data": {
      "text/html": [
       "<pre style=\"white-space:pre;overflow-x:auto;line-height:normal;font-family:Menlo,'DejaVu Sans Mono',consolas,'Courier New',monospace\">┏━━━━━━━━━━━━━━━━━━━━━━━━━━━━━━━━━┳━━━━━━━━━━━━━━━━━━━━━━━━┳━━━━━━━━━━━━━━━┓\n",
       "┃<span style=\"font-weight: bold\"> Layer (type)                    </span>┃<span style=\"font-weight: bold\"> Output Shape           </span>┃<span style=\"font-weight: bold\">       Param # </span>┃\n",
       "┡━━━━━━━━━━━━━━━━━━━━━━━━━━━━━━━━━╇━━━━━━━━━━━━━━━━━━━━━━━━╇━━━━━━━━━━━━━━━┩\n",
       "│ embedding (<span style=\"color: #0087ff; text-decoration-color: #0087ff\">Embedding</span>)           │ (<span style=\"color: #00d7ff; text-decoration-color: #00d7ff\">None</span>, <span style=\"color: #00af00; text-decoration-color: #00af00\">25</span>, <span style=\"color: #00af00; text-decoration-color: #00af00\">128</span>)        │     <span style=\"color: #00af00; text-decoration-color: #00af00\">1,920,000</span> │\n",
       "├─────────────────────────────────┼────────────────────────┼───────────────┤\n",
       "│ spatial_dropout1d               │ (<span style=\"color: #00d7ff; text-decoration-color: #00d7ff\">None</span>, <span style=\"color: #00af00; text-decoration-color: #00af00\">25</span>, <span style=\"color: #00af00; text-decoration-color: #00af00\">128</span>)        │             <span style=\"color: #00af00; text-decoration-color: #00af00\">0</span> │\n",
       "│ (<span style=\"color: #0087ff; text-decoration-color: #0087ff\">SpatialDropout1D</span>)              │                        │               │\n",
       "├─────────────────────────────────┼────────────────────────┼───────────────┤\n",
       "│ bidirectional (<span style=\"color: #0087ff; text-decoration-color: #0087ff\">Bidirectional</span>)   │ (<span style=\"color: #00d7ff; text-decoration-color: #00d7ff\">None</span>, <span style=\"color: #00af00; text-decoration-color: #00af00\">128</span>)            │        <span style=\"color: #00af00; text-decoration-color: #00af00\">98,816</span> │\n",
       "├─────────────────────────────────┼────────────────────────┼───────────────┤\n",
       "│ dropout (<span style=\"color: #0087ff; text-decoration-color: #0087ff\">Dropout</span>)               │ (<span style=\"color: #00d7ff; text-decoration-color: #00d7ff\">None</span>, <span style=\"color: #00af00; text-decoration-color: #00af00\">128</span>)            │             <span style=\"color: #00af00; text-decoration-color: #00af00\">0</span> │\n",
       "├─────────────────────────────────┼────────────────────────┼───────────────┤\n",
       "│ dense (<span style=\"color: #0087ff; text-decoration-color: #0087ff\">Dense</span>)                   │ (<span style=\"color: #00d7ff; text-decoration-color: #00d7ff\">None</span>, <span style=\"color: #00af00; text-decoration-color: #00af00\">1</span>)              │           <span style=\"color: #00af00; text-decoration-color: #00af00\">129</span> │\n",
       "└─────────────────────────────────┴────────────────────────┴───────────────┘\n",
       "</pre>\n"
      ],
      "text/plain": [
       "┏━━━━━━━━━━━━━━━━━━━━━━━━━━━━━━━━━┳━━━━━━━━━━━━━━━━━━━━━━━━┳━━━━━━━━━━━━━━━┓\n",
       "┃\u001b[1m \u001b[0m\u001b[1mLayer (type)                   \u001b[0m\u001b[1m \u001b[0m┃\u001b[1m \u001b[0m\u001b[1mOutput Shape          \u001b[0m\u001b[1m \u001b[0m┃\u001b[1m \u001b[0m\u001b[1m      Param #\u001b[0m\u001b[1m \u001b[0m┃\n",
       "┡━━━━━━━━━━━━━━━━━━━━━━━━━━━━━━━━━╇━━━━━━━━━━━━━━━━━━━━━━━━╇━━━━━━━━━━━━━━━┩\n",
       "│ embedding (\u001b[38;5;33mEmbedding\u001b[0m)           │ (\u001b[38;5;45mNone\u001b[0m, \u001b[38;5;34m25\u001b[0m, \u001b[38;5;34m128\u001b[0m)        │     \u001b[38;5;34m1,920,000\u001b[0m │\n",
       "├─────────────────────────────────┼────────────────────────┼───────────────┤\n",
       "│ spatial_dropout1d               │ (\u001b[38;5;45mNone\u001b[0m, \u001b[38;5;34m25\u001b[0m, \u001b[38;5;34m128\u001b[0m)        │             \u001b[38;5;34m0\u001b[0m │\n",
       "│ (\u001b[38;5;33mSpatialDropout1D\u001b[0m)              │                        │               │\n",
       "├─────────────────────────────────┼────────────────────────┼───────────────┤\n",
       "│ bidirectional (\u001b[38;5;33mBidirectional\u001b[0m)   │ (\u001b[38;5;45mNone\u001b[0m, \u001b[38;5;34m128\u001b[0m)            │        \u001b[38;5;34m98,816\u001b[0m │\n",
       "├─────────────────────────────────┼────────────────────────┼───────────────┤\n",
       "│ dropout (\u001b[38;5;33mDropout\u001b[0m)               │ (\u001b[38;5;45mNone\u001b[0m, \u001b[38;5;34m128\u001b[0m)            │             \u001b[38;5;34m0\u001b[0m │\n",
       "├─────────────────────────────────┼────────────────────────┼───────────────┤\n",
       "│ dense (\u001b[38;5;33mDense\u001b[0m)                   │ (\u001b[38;5;45mNone\u001b[0m, \u001b[38;5;34m1\u001b[0m)              │           \u001b[38;5;34m129\u001b[0m │\n",
       "└─────────────────────────────────┴────────────────────────┴───────────────┘\n"
      ]
     },
     "metadata": {},
     "output_type": "display_data"
    },
    {
     "data": {
      "text/html": [
       "<pre style=\"white-space:pre;overflow-x:auto;line-height:normal;font-family:Menlo,'DejaVu Sans Mono',consolas,'Courier New',monospace\"><span style=\"font-weight: bold\"> Total params: </span><span style=\"color: #00af00; text-decoration-color: #00af00\">2,018,945</span> (7.70 MB)\n",
       "</pre>\n"
      ],
      "text/plain": [
       "\u001b[1m Total params: \u001b[0m\u001b[38;5;34m2,018,945\u001b[0m (7.70 MB)\n"
      ]
     },
     "metadata": {},
     "output_type": "display_data"
    },
    {
     "data": {
      "text/html": [
       "<pre style=\"white-space:pre;overflow-x:auto;line-height:normal;font-family:Menlo,'DejaVu Sans Mono',consolas,'Courier New',monospace\"><span style=\"font-weight: bold\"> Trainable params: </span><span style=\"color: #00af00; text-decoration-color: #00af00\">2,018,945</span> (7.70 MB)\n",
       "</pre>\n"
      ],
      "text/plain": [
       "\u001b[1m Trainable params: \u001b[0m\u001b[38;5;34m2,018,945\u001b[0m (7.70 MB)\n"
      ]
     },
     "metadata": {},
     "output_type": "display_data"
    },
    {
     "data": {
      "text/html": [
       "<pre style=\"white-space:pre;overflow-x:auto;line-height:normal;font-family:Menlo,'DejaVu Sans Mono',consolas,'Courier New',monospace\"><span style=\"font-weight: bold\"> Non-trainable params: </span><span style=\"color: #00af00; text-decoration-color: #00af00\">0</span> (0.00 B)\n",
       "</pre>\n"
      ],
      "text/plain": [
       "\u001b[1m Non-trainable params: \u001b[0m\u001b[38;5;34m0\u001b[0m (0.00 B)\n"
      ]
     },
     "metadata": {},
     "output_type": "display_data"
    }
   ],
   "source": [
    "# Построение модели\n",
    "print(\"Построение модели - начало\")\n",
    "\n",
    "def build_model():\n",
    "    print(\"Функция build_model: начало - создание LSTM классификатора\")\n",
    "    model = Sequential([\n",
    "        Embedding(input_dim=config[\"max_vocab_size\"], output_dim=config[\"embedding_dim\"], input_shape=(config[\"max_sequence_len\"],)),\n",
    "        tf.keras.layers.SpatialDropout1D(config[\"dropout_rate\"]),\n",
    "        Bidirectional(LSTM(config[\"lstm_units\"], dropout=config[\"dropout_rate\"], recurrent_dropout=config[\"dropout_rate\"])),\n",
    "        tf.keras.layers.Dropout(config[\"dropout_rate\"]),\n",
    "        Dense(1, activation='sigmoid')\n",
    "    ])\n",
    "    model.compile(optimizer='adam', loss='binary_crossentropy', metrics=['accuracy'])\n",
    "    print(\"Функция build_model: завершение - модель построена и скомпилирована\")\n",
    "    return model\n",
    "\n",
    "model = build_model()\n",
    "model.build(input_shape=(None, config[\"max_sequence_len\"]))\n",
    "print(\"Модель готова к обучению\")\n",
    "model.summary()"
   ]
  },
  {
   "cell_type": "markdown",
   "id": "81dd63aa",
   "metadata": {},
   "source": [
    "## Обучение модели с class_weight и колбэками"
   ]
  },
  {
   "cell_type": "code",
   "execution_count": 11,
   "id": "37672613",
   "metadata": {},
   "outputs": [
    {
     "name": "stdout",
     "output_type": "stream",
     "text": [
      "Обучение - начало\n",
      "Ячейка 6: class_weight установлены: {0: np.float64(0.998755345630944), 1: np.float64(1.0012477604299974)}\n",
      "Epoch 1/15\n",
      "\u001b[1m978/978\u001b[0m \u001b[32m━━━━━━━━━━━━━━━━━━━━\u001b[0m\u001b[37m\u001b[0m \u001b[1m0s\u001b[0m 35ms/step - accuracy: 0.6942 - loss: 0.5726\n",
      "Epoch 1: val_accuracy improved from -inf to 0.72233, saving model to ../model/b2/best_model.keras\n",
      "\u001b[1m978/978\u001b[0m \u001b[32m━━━━━━━━━━━━━━━━━━━━\u001b[0m\u001b[37m\u001b[0m \u001b[1m36s\u001b[0m 37ms/step - accuracy: 0.6942 - loss: 0.5726 - val_accuracy: 0.7223 - val_loss: 0.5374\n",
      "Epoch 2/15\n",
      "\u001b[1m977/978\u001b[0m \u001b[32m━━━━━━━━━━━━━━━━━━━\u001b[0m\u001b[37m━\u001b[0m \u001b[1m0s\u001b[0m 35ms/step - accuracy: 0.6989 - loss: 0.5688\n",
      "Epoch 2: val_accuracy improved from 0.72233 to 0.72981, saving model to ../model/b2/best_model.keras\n",
      "\u001b[1m978/978\u001b[0m \u001b[32m━━━━━━━━━━━━━━━━━━━━\u001b[0m\u001b[37m\u001b[0m \u001b[1m36s\u001b[0m 37ms/step - accuracy: 0.6989 - loss: 0.5688 - val_accuracy: 0.7298 - val_loss: 0.5338\n",
      "Epoch 3/15\n",
      "\u001b[1m978/978\u001b[0m \u001b[32m━━━━━━━━━━━━━━━━━━━━\u001b[0m\u001b[37m\u001b[0m \u001b[1m0s\u001b[0m 35ms/step - accuracy: 0.6985 - loss: 0.5637\n",
      "Epoch 3: val_accuracy did not improve from 0.72981\n",
      "\u001b[1m978/978\u001b[0m \u001b[32m━━━━━━━━━━━━━━━━━━━━\u001b[0m\u001b[37m\u001b[0m \u001b[1m36s\u001b[0m 37ms/step - accuracy: 0.6985 - loss: 0.5637 - val_accuracy: 0.7253 - val_loss: 0.5304\n",
      "Epoch 4/15\n",
      "\u001b[1m978/978\u001b[0m \u001b[32m━━━━━━━━━━━━━━━━━━━━\u001b[0m\u001b[37m\u001b[0m \u001b[1m0s\u001b[0m 36ms/step - accuracy: 0.7093 - loss: 0.5565\n",
      "Epoch 4: val_accuracy improved from 0.72981 to 0.73249, saving model to ../model/b2/best_model.keras\n",
      "\u001b[1m978/978\u001b[0m \u001b[32m━━━━━━━━━━━━━━━━━━━━\u001b[0m\u001b[37m\u001b[0m \u001b[1m37s\u001b[0m 37ms/step - accuracy: 0.7093 - loss: 0.5565 - val_accuracy: 0.7325 - val_loss: 0.5246\n",
      "Epoch 5/15\n",
      "\u001b[1m977/978\u001b[0m \u001b[32m━━━━━━━━━━━━━━━━━━━\u001b[0m\u001b[37m━\u001b[0m \u001b[1m0s\u001b[0m 35ms/step - accuracy: 0.7086 - loss: 0.5556\n",
      "Epoch 5: val_accuracy improved from 0.73249 to 0.73773, saving model to ../model/b2/best_model.keras\n",
      "\u001b[1m978/978\u001b[0m \u001b[32m━━━━━━━━━━━━━━━━━━━━\u001b[0m\u001b[37m\u001b[0m \u001b[1m37s\u001b[0m 37ms/step - accuracy: 0.7086 - loss: 0.5556 - val_accuracy: 0.7377 - val_loss: 0.5250\n",
      "Epoch 6/15\n",
      "\u001b[1m977/978\u001b[0m \u001b[32m━━━━━━━━━━━━━━━━━━━\u001b[0m\u001b[37m━\u001b[0m \u001b[1m0s\u001b[0m 35ms/step - accuracy: 0.7108 - loss: 0.5539\n",
      "Epoch 6: val_accuracy did not improve from 0.73773\n",
      "\u001b[1m978/978\u001b[0m \u001b[32m━━━━━━━━━━━━━━━━━━━━\u001b[0m\u001b[37m\u001b[0m \u001b[1m36s\u001b[0m 37ms/step - accuracy: 0.7108 - loss: 0.5539 - val_accuracy: 0.7375 - val_loss: 0.5249\n",
      "Epoch 7/15\n",
      "\u001b[1m977/978\u001b[0m \u001b[32m━━━━━━━━━━━━━━━━━━━\u001b[0m\u001b[37m━\u001b[0m \u001b[1m0s\u001b[0m 36ms/step - accuracy: 0.7155 - loss: 0.5473\n",
      "Epoch 7: val_accuracy improved from 0.73773 to 0.74661, saving model to ../model/b2/best_model.keras\n",
      "\u001b[1m978/978\u001b[0m \u001b[32m━━━━━━━━━━━━━━━━━━━━\u001b[0m\u001b[37m\u001b[0m \u001b[1m37s\u001b[0m 38ms/step - accuracy: 0.7155 - loss: 0.5473 - val_accuracy: 0.7466 - val_loss: 0.5097\n",
      "Epoch 8/15\n",
      "\u001b[1m977/978\u001b[0m \u001b[32m━━━━━━━━━━━━━━━━━━━\u001b[0m\u001b[37m━\u001b[0m \u001b[1m0s\u001b[0m 36ms/step - accuracy: 0.7184 - loss: 0.5466\n",
      "Epoch 8: val_accuracy did not improve from 0.74661\n",
      "\u001b[1m978/978\u001b[0m \u001b[32m━━━━━━━━━━━━━━━━━━━━\u001b[0m\u001b[37m\u001b[0m \u001b[1m37s\u001b[0m 38ms/step - accuracy: 0.7184 - loss: 0.5466 - val_accuracy: 0.7435 - val_loss: 0.5070\n",
      "Epoch 9/15\n",
      "\u001b[1m978/978\u001b[0m \u001b[32m━━━━━━━━━━━━━━━━━━━━\u001b[0m\u001b[37m\u001b[0m \u001b[1m0s\u001b[0m 36ms/step - accuracy: 0.7188 - loss: 0.5465\n",
      "Epoch 9: val_accuracy improved from 0.74661 to 0.75249, saving model to ../model/b2/best_model.keras\n",
      "\u001b[1m978/978\u001b[0m \u001b[32m━━━━━━━━━━━━━━━━━━━━\u001b[0m\u001b[37m\u001b[0m \u001b[1m37s\u001b[0m 38ms/step - accuracy: 0.7188 - loss: 0.5465 - val_accuracy: 0.7525 - val_loss: 0.5054\n",
      "Epoch 10/15\n",
      "\u001b[1m977/978\u001b[0m \u001b[32m━━━━━━━━━━━━━━━━━━━\u001b[0m\u001b[37m━\u001b[0m \u001b[1m0s\u001b[0m 36ms/step - accuracy: 0.7251 - loss: 0.5377\n",
      "Epoch 10: val_accuracy improved from 0.75249 to 0.75275, saving model to ../model/b2/best_model.keras\n",
      "\u001b[1m978/978\u001b[0m \u001b[32m━━━━━━━━━━━━━━━━━━━━\u001b[0m\u001b[37m\u001b[0m \u001b[1m37s\u001b[0m 38ms/step - accuracy: 0.7251 - loss: 0.5377 - val_accuracy: 0.7527 - val_loss: 0.5017\n",
      "Epoch 11/15\n",
      "\u001b[1m978/978\u001b[0m \u001b[32m━━━━━━━━━━━━━━━━━━━━\u001b[0m\u001b[37m\u001b[0m \u001b[1m0s\u001b[0m 36ms/step - accuracy: 0.7222 - loss: 0.5385\n",
      "Epoch 11: val_accuracy did not improve from 0.75275\n",
      "\u001b[1m978/978\u001b[0m \u001b[32m━━━━━━━━━━━━━━━━━━━━\u001b[0m\u001b[37m\u001b[0m \u001b[1m37s\u001b[0m 38ms/step - accuracy: 0.7222 - loss: 0.5385 - val_accuracy: 0.7512 - val_loss: 0.4996\n",
      "Epoch 12/15\n",
      "\u001b[1m977/978\u001b[0m \u001b[32m━━━━━━━━━━━━━━━━━━━\u001b[0m\u001b[37m━\u001b[0m \u001b[1m0s\u001b[0m 36ms/step - accuracy: 0.7242 - loss: 0.5335\n",
      "Epoch 12: val_accuracy did not improve from 0.75275\n",
      "\u001b[1m978/978\u001b[0m \u001b[32m━━━━━━━━━━━━━━━━━━━━\u001b[0m\u001b[37m\u001b[0m \u001b[1m37s\u001b[0m 38ms/step - accuracy: 0.7242 - loss: 0.5335 - val_accuracy: 0.7509 - val_loss: 0.5005\n",
      "Epoch 13/15\n",
      "\u001b[1m978/978\u001b[0m \u001b[32m━━━━━━━━━━━━━━━━━━━━\u001b[0m\u001b[37m\u001b[0m \u001b[1m0s\u001b[0m 35ms/step - accuracy: 0.7239 - loss: 0.5334\n",
      "Epoch 13: val_accuracy did not improve from 0.75275\n",
      "\u001b[1m978/978\u001b[0m \u001b[32m━━━━━━━━━━━━━━━━━━━━\u001b[0m\u001b[37m\u001b[0m \u001b[1m36s\u001b[0m 37ms/step - accuracy: 0.7239 - loss: 0.5334 - val_accuracy: 0.7524 - val_loss: 0.4972\n",
      "Epoch 14/15\n",
      "\u001b[1m977/978\u001b[0m \u001b[32m━━━━━━━━━━━━━━━━━━━\u001b[0m\u001b[37m━\u001b[0m \u001b[1m0s\u001b[0m 36ms/step - accuracy: 0.7298 - loss: 0.5277\n",
      "Epoch 14: val_accuracy improved from 0.75275 to 0.75869, saving model to ../model/b2/best_model.keras\n",
      "\u001b[1m978/978\u001b[0m \u001b[32m━━━━━━━━━━━━━━━━━━━━\u001b[0m\u001b[37m\u001b[0m \u001b[1m37s\u001b[0m 38ms/step - accuracy: 0.7298 - loss: 0.5277 - val_accuracy: 0.7587 - val_loss: 0.4910\n",
      "Epoch 15/15\n",
      "\u001b[1m978/978\u001b[0m \u001b[32m━━━━━━━━━━━━━━━━━━━━\u001b[0m\u001b[37m\u001b[0m \u001b[1m0s\u001b[0m 36ms/step - accuracy: 0.7305 - loss: 0.5288\n",
      "Epoch 15: val_accuracy did not improve from 0.75869\n",
      "\u001b[1m978/978\u001b[0m \u001b[32m━━━━━━━━━━━━━━━━━━━━\u001b[0m\u001b[37m\u001b[0m \u001b[1m37s\u001b[0m 38ms/step - accuracy: 0.7305 - loss: 0.5288 - val_accuracy: 0.7576 - val_loss: 0.4944\n",
      "Restoring model weights from the end of the best epoch: 14.\n",
      "Финальная модель сохранёна по пути: ../model/model.keras\n",
      "Обучение завершено\n"
     ]
    }
   ],
   "source": [
    "# Обучение модели с class_weight и колбэками\n",
    "print(\"Обучение - начало\")\n",
    "from sklearn.utils import class_weight\n",
    "cw = class_weight.compute_class_weight('balanced', classes=np.unique(y_train), y=y_train)\n",
    "class_weights = {i: cw_val for i, cw_val in enumerate(cw)}\n",
    "print(f\"Ячейка 6: class_weight установлены: {class_weights}\")\n",
    "\n",
    "checkpoint = ModelCheckpoint(\n",
    "    filepath=config[\"best_model_path\"], monitor='val_accuracy', mode='max', save_best_only=True, verbose=1\n",
    ")\n",
    "earlystop = EarlyStopping(\n",
    "    monitor='val_loss', patience=config['patience'], restore_best_weights=True, verbose=1\n",
    ")\n",
    "history = model.fit(\n",
    "    X_train, y_train,\n",
    "    epochs=config[\"epochs\"],\n",
    "    batch_size=config[\"batch_size\"],\n",
    "    validation_data=(X_val, y_val),\n",
    "    class_weight=class_weights,\n",
    "    callbacks=[checkpoint, earlystop]\n",
    ")\n",
    "\n",
    "# Сохраняем финальную модель\n",
    "final_path = config.get(\"model_dir\", None)\n",
    "if final_path:\n",
    "    model.save(final_path)\n",
    "    print(f\"Финальная модель сохранёна по пути: {final_path}\")\n",
    "    \n",
    "print(\"Обучение завершено\")"
   ]
  }
 ],
 "metadata": {
  "kernelspec": {
   "display_name": "test_env",
   "language": "python",
   "name": "python3"
  },
  "language_info": {
   "codemirror_mode": {
    "name": "ipython",
    "version": 3
   },
   "file_extension": ".py",
   "mimetype": "text/x-python",
   "name": "python",
   "nbconvert_exporter": "python",
   "pygments_lexer": "ipython3",
   "version": "3.10.18"
  }
 },
 "nbformat": 4,
 "nbformat_minor": 5
}
